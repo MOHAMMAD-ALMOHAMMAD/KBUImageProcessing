{
 "cells": [
  {
   "cell_type": "code",
   "execution_count": 2,
   "id": "be577ff5",
   "metadata": {},
   "outputs": [],
   "source": [
    "import cv2\n",
    "import numpy as np"
   ]
  },
  {
   "cell_type": "markdown",
   "id": "f6583bb4",
   "metadata": {},
   "source": [
    "# Importing Test Image"
   ]
  },
  {
   "cell_type": "code",
   "execution_count": 80,
   "id": "ed935200",
   "metadata": {},
   "outputs": [],
   "source": [
    "img = cv2.imread(\"Images\\Cat03.jpg\")\n",
    "img=cv2.resize(img,(500,500))"
   ]
  },
  {
   "cell_type": "markdown",
   "id": "1fe1eab8",
   "metadata": {},
   "source": [
    "# Adding Salt And Pepper Noise"
   ]
  },
  {
   "cell_type": "code",
   "execution_count": 58,
   "id": "f35d2fe5",
   "metadata": {},
   "outputs": [
    {
     "data": {
      "text/plain": [
       "-1"
      ]
     },
     "execution_count": 58,
     "metadata": {},
     "output_type": "execute_result"
    }
   ],
   "source": [
    "def saltPepperNoise(image):\n",
    " row,col,ch = image.shape\n",
    " s_vs_p = 0.5\n",
    " amount = 0.04\n",
    " noisy = np.copy(image)\n",
    " num_salt = int(np.ceil(amount*image.size*s_vs_p))\n",
    " corrds = [np.random.randint(0,i-1,num_salt) for i in image.shape]\n",
    " noisy[tuple(corrds)] = 1\n",
    " num_pep = int(np.ceil(amount*image.size*s_vs_p))\n",
    " corrds = [np.random.randint(0,i-1,num_pep) for i in image.shape]\n",
    " noisy[tuple(corrds)] = 0\n",
    " return noisy\n",
    "\n",
    "\n",
    "img = img/255\n",
    "noise_img = saltPepperNoise(img)\n",
    "cv2.imshow(\"Salt And Pepper Noise\",noise_img)\n",
    "cv2.waitKey(0) "
   ]
  },
  {
   "cell_type": "markdown",
   "id": "bd128613",
   "metadata": {},
   "source": [
    "# Applying Box/Averaging Filter"
   ]
  },
  {
   "cell_type": "code",
   "execution_count": 60,
   "id": "4d25e4bc",
   "metadata": {},
   "outputs": [
    {
     "data": {
      "text/plain": [
       "-1"
      ]
     },
     "execution_count": 60,
     "metadata": {},
     "output_type": "execute_result"
    }
   ],
   "source": [
    "kernel1=np.ones((3,3))/9\n",
    "\n",
    "\n",
    "image=cv2.filter2D(src=img,ddepth=-1,kernel=kernel1)\n",
    "\n",
    "cv2.imshow(\"image with box filter kernel\",image)\n",
    "cv2.imshow(\"original image\",img)\n",
    "\n",
    "cv2.waitKey(0) "
   ]
  },
  {
   "cell_type": "markdown",
   "id": "a58e0418",
   "metadata": {},
   "source": [
    "# Applying Sobel Operator And Gaussian Blur"
   ]
  },
  {
   "cell_type": "code",
   "execution_count": 68,
   "id": "e6e8ad78",
   "metadata": {},
   "outputs": [
    {
     "data": {
      "text/plain": [
       "-1"
      ]
     },
     "execution_count": 68,
     "metadata": {},
     "output_type": "execute_result"
    }
   ],
   "source": [
    "img_gray = cv2.cvtColor(img, cv2.COLOR_BGR2GRAY)\n",
    "cv2.imshow(\"gs\",img_gray)\n",
    "\n",
    "\n",
    "img_gray_gauss=cv2.GaussianBlur(img_gray,(3,3),0)\n",
    "cv2.imshow(\"gs_gauss\",img_gray_gauss)\n",
    "\n",
    "\n",
    "\n",
    "\n",
    "cv2.waitKey(0)"
   ]
  },
  {
   "cell_type": "code",
   "execution_count": 76,
   "id": "56c7b165",
   "metadata": {},
   "outputs": [
    {
     "data": {
      "text/plain": [
       "-1"
      ]
     },
     "execution_count": 76,
     "metadata": {},
     "output_type": "execute_result"
    }
   ],
   "source": [
    "newimg=cv2.Sobel(src=img_gray_gauss, ddepth=cv2.CV_64F, dx=1, dy=1, ksize=3)\n",
    "cv2.imshow(\"Original Image\",img)\n",
    "\n",
    "cv2.imshow(\"Sobel Operator Sharpening\",newimg)\n",
    "\n",
    "\n",
    "cv2.waitKey(0) \n"
   ]
  },
  {
   "cell_type": "markdown",
   "id": "71b8c2f1",
   "metadata": {},
   "source": [
    "# Bit Plane Slicing"
   ]
  },
  {
   "cell_type": "code",
   "execution_count": 86,
   "id": "a144838d",
   "metadata": {},
   "outputs": [
    {
     "data": {
      "text/plain": [
       "-1"
      ]
     },
     "execution_count": 86,
     "metadata": {},
     "output_type": "execute_result"
    }
   ],
   "source": [
    "img_gray = cv2.cvtColor(img, cv2.COLOR_BGR2GRAY)\n",
    "#Iterate over each pixel and change pixel value to binary using np.binary_repr() and store it in a list.\n",
    "lst = []\n",
    "for i in range(img_gray.shape[0]):\n",
    "    for j in range(img_gray.shape[1]):\n",
    "         lst.append(np.binary_repr(img_gray[i][j] ,width=8)) # width = no. of bits\n",
    "\n",
    "\n",
    "eight_bit_img = (np.array([int(i[0]) for i in lst],dtype = np.uint8) * 128).reshape(img_gray.shape[0],img_gray.shape[1])\n",
    "seven_bit_img = (np.array([int(i[1]) for i in lst],dtype = np.uint8) * 64).reshape(img_gray.shape[0],img_gray.shape[1])\n",
    "six_bit_img = (np.array([int(i[2]) for i in lst],dtype = np.uint8) * 32).reshape(img_gray.shape[0],img_gray.shape[1])\n",
    "five_bit_img = (np.array([int(i[3]) for i in lst],dtype = np.uint8) * 16).reshape(img_gray.shape[0],img_gray.shape[1])\n",
    "four_bit_img = (np.array([int(i[4]) for i in lst],dtype = np.uint8) * 8).reshape(img_gray.shape[0],img_gray.shape[1])\n",
    "three_bit_img = (np.array([int(i[5]) for i in lst],dtype = np.uint8) * 4).reshape(img_gray.shape[0],img_gray.shape[1])\n",
    "two_bit_img = (np.array([int(i[6]) for i in lst],dtype = np.uint8) * 2).reshape(img_gray.shape[0],img_gray.shape[1])\n",
    "one_bit_img = (np.array([int(i[7]) for i in lst],dtype = np.uint8) * 1).reshape(img_gray.shape[0],img_gray.shape[1])\n",
    "\n",
    "#Concatenate these images for ease of display using cv2.hconcat()\n",
    "finalr = cv2.hconcat([eight_bit_img,seven_bit_img,six_bit_img,five_bit_img])\n",
    "finalv =cv2.hconcat([four_bit_img,three_bit_img,two_bit_img,one_bit_img])\n",
    "\n",
    "# Vertically concatenate\n",
    "final = cv2.vconcat([finalr,finalv])\n",
    "final=cv2.resize(final,(500,500))\n",
    "\n",
    "\n",
    "\n",
    "# Display the images\n",
    "cv2.imshow('a',final)\n",
    "cv2.waitKey(0) "
   ]
  },
  {
   "cell_type": "markdown",
   "id": "01220df9",
   "metadata": {},
   "source": [
    "###### From The Result Of The Slicing, It Should Be Enough To Only Combine The First 5 Bit Planes"
   ]
  },
  {
   "cell_type": "code",
   "execution_count": 87,
   "id": "f4ab5afe",
   "metadata": {},
   "outputs": [
    {
     "data": {
      "text/plain": [
       "-1"
      ]
     },
     "execution_count": 87,
     "metadata": {},
     "output_type": "execute_result"
    }
   ],
   "source": [
    "newimg2=eight_bit_img+seven_bit_img+six_bit_img+five_bit_img+four_bit_img\n",
    "\n",
    "cv2.imshow('anew',newimg2)\n",
    "cv2.waitKey(0)"
   ]
  },
  {
   "cell_type": "code",
   "execution_count": null,
   "id": "ac8e6059",
   "metadata": {},
   "outputs": [],
   "source": []
  }
 ],
 "metadata": {
  "kernelspec": {
   "display_name": "Python 3 (ipykernel)",
   "language": "python",
   "name": "python3"
  },
  "language_info": {
   "codemirror_mode": {
    "name": "ipython",
    "version": 3
   },
   "file_extension": ".py",
   "mimetype": "text/x-python",
   "name": "python",
   "nbconvert_exporter": "python",
   "pygments_lexer": "ipython3",
   "version": "3.9.7"
  }
 },
 "nbformat": 4,
 "nbformat_minor": 5
}
