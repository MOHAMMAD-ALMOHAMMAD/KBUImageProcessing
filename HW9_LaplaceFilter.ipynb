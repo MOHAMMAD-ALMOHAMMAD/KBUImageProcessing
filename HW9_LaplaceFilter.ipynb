{
 "cells": [
  {
   "cell_type": "code",
   "execution_count": 4,
   "id": "b1f2a4b0-3368-4341-9cab-b7ad73d91f3e",
   "metadata": {},
   "outputs": [
    {
     "data": {
      "text/plain": [
       "-1"
      ]
     },
     "execution_count": 4,
     "metadata": {},
     "output_type": "execute_result"
    }
   ],
   "source": [
    "import numpy as np\n",
    "import cv2\n",
    "\n",
    "img_path=\"..//tiger.jpg\"\n",
    "\n",
    "img = cv2.imread(img_path)\n",
    "img=cv2.resize(img,(500,500))\n",
    "gray = cv2.cvtColor(img, cv2.COLOR_BGR2GRAY)\n",
    "\n",
    "\n",
    "\n",
    "\n",
    "newimg=cv2.Laplacian(src=gray, ddepth=cv2.CV_64F, ksize=3)\n",
    "\n",
    "\n",
    "cv2.imshow(\"Original Image\",gray)\n",
    "cv2.imshow(\"Laplace Filter \",newimg)\n",
    "\n",
    "\n",
    "\n",
    "cv2.waitKey(0)"
   ]
  },
  {
   "cell_type": "code",
   "execution_count": null,
   "id": "f3b0210f-779f-4164-9150-d20c7bf62089",
   "metadata": {},
   "outputs": [],
   "source": []
  }
 ],
 "metadata": {
  "kernelspec": {
   "display_name": "Python 3 (ipykernel)",
   "language": "python",
   "name": "python3"
  },
  "language_info": {
   "codemirror_mode": {
    "name": "ipython",
    "version": 3
   },
   "file_extension": ".py",
   "mimetype": "text/x-python",
   "name": "python",
   "nbconvert_exporter": "python",
   "pygments_lexer": "ipython3",
   "version": "3.11.4"
  }
 },
 "nbformat": 4,
 "nbformat_minor": 5
}
