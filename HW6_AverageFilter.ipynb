{
 "cells": [
  {
   "cell_type": "code",
   "execution_count": 3,
   "id": "b1f2a4b0-3368-4341-9cab-b7ad73d91f3e",
   "metadata": {},
   "outputs": [
    {
     "data": {
      "text/plain": [
       "-1"
      ]
     },
     "execution_count": 3,
     "metadata": {},
     "output_type": "execute_result"
    }
   ],
   "source": [
    "import numpy as np\n",
    "import cv2\n",
    "\n",
    "img_path=\"Images//Cat03.jpg\"\n",
    "\n",
    "img=cv2.imread(img_path)\n",
    "img=cv2.resize(img,(500,500))\n",
    "\n",
    "# 3x3 Average Filter Kernel\n",
    "kernel1=np.ones((3,3))/9\n",
    "\n",
    "\n",
    "filtered_img=cv2.filter2D(src=img,ddepth=-1,kernel=kernel1)\n",
    "\n",
    "cv2.imshow(\"image with box filter kernel\",filtered_img)\n",
    "cv2.imshow(\"original image\",img)\n",
    "\n",
    "cv2.waitKey(0) "
   ]
  },
  {
   "cell_type": "code",
   "execution_count": null,
   "id": "79d4414d-25f4-429b-a35e-f27d08c6ec39",
   "metadata": {},
   "outputs": [],
   "source": []
  }
 ],
 "metadata": {
  "kernelspec": {
   "display_name": "Python 3 (ipykernel)",
   "language": "python",
   "name": "python3"
  },
  "language_info": {
   "codemirror_mode": {
    "name": "ipython",
    "version": 3
   },
   "file_extension": ".py",
   "mimetype": "text/x-python",
   "name": "python",
   "nbconvert_exporter": "python",
   "pygments_lexer": "ipython3",
   "version": "3.11.4"
  }
 },
 "nbformat": 4,
 "nbformat_minor": 5
}
