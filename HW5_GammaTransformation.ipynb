{
 "cells": [
  {
   "cell_type": "code",
   "execution_count": 9,
   "id": "b1f2a4b0-3368-4341-9cab-b7ad73d91f3e",
   "metadata": {},
   "outputs": [
    {
     "data": {
      "text/plain": [
       "-1"
      ]
     },
     "execution_count": 9,
     "metadata": {},
     "output_type": "execute_result"
    }
   ],
   "source": [
    "import cv2 \n",
    "import numpy as np \n",
    "\n",
    "# Open the image. \n",
    "test_img_path=\"..//Cat03.jpg\"\n",
    "\n",
    "img = cv2.imread(test_img_path)\n",
    "img=cv2.resize(img,(500,500))\n",
    "\n",
    "# Trying 4 gamma values. \n",
    "gamma_values= [0.1, 0.5, 1.2, 2.2]\n",
    "\n",
    "r=gamma_values[0] # r value can be changed from here\n",
    "\t\n",
    "# Apply gamma correction. \n",
    "gamma_corrected = np.array(255*(img / 255) ** r, dtype = 'uint8') \n",
    "\n",
    "# Show original and edited images. \n",
    "cv2.imshow('Original Image', img)\n",
    "cv2.imshow('gamma_transformed(r='+str(r)+').jpg', gamma_corrected)\n",
    "cv2.waitKey(0)\n"
   ]
  },
  {
   "cell_type": "code",
   "execution_count": null,
   "id": "8c8c0de9-2a0a-4cc4-8f69-b2c8535761d9",
   "metadata": {},
   "outputs": [],
   "source": []
  }
 ],
 "metadata": {
  "kernelspec": {
   "display_name": "Python 3 (ipykernel)",
   "language": "python",
   "name": "python3"
  },
  "language_info": {
   "codemirror_mode": {
    "name": "ipython",
    "version": 3
   },
   "file_extension": ".py",
   "mimetype": "text/x-python",
   "name": "python",
   "nbconvert_exporter": "python",
   "pygments_lexer": "ipython3",
   "version": "3.11.4"
  }
 },
 "nbformat": 4,
 "nbformat_minor": 5
}
