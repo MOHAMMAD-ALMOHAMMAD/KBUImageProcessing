{
 "cells": [
  {
   "cell_type": "code",
   "execution_count": 23,
   "id": "f6f9bc4a-8a80-4b65-9097-39346ad209df",
   "metadata": {},
   "outputs": [
    {
     "data": {
      "text/plain": [
       "-1"
      ]
     },
     "execution_count": 23,
     "metadata": {},
     "output_type": "execute_result"
    }
   ],
   "source": [
    "import cv2 \n",
    "import numpy as np\n",
    "\n",
    "img_path=\"..//morphologicaltest.jpg\"\n",
    "img = cv2.imread(img_path, cv2.IMREAD_GRAYSCALE)\n",
    "img=cv2.resize(img,(300,300),interpolation = cv2.INTER_CUBIC)\n",
    "open_img=np.copy(img)\n",
    "\n",
    "\n",
    "#putting some blobs/noise that will be removed by the opening operation\n",
    "img[1:6,2:7]=255\n",
    "img[50:58,50:57]=255\n",
    "\n",
    "\n",
    "kernel = np.ones((5,5),np.uint8)\n",
    "erosion = cv2.erode(img,kernel,iterations = 2)\n",
    "dilation= cv2.dilate(img,kernel,iterations=2)\n",
    "opening = cv2.morphologyEx(img, cv2.MORPH_OPEN, kernel,iterations=2)\n",
    "closing = cv2.morphologyEx(img, cv2.MORPH_CLOSE, kernel,iterations=3)\n",
    "\n",
    "\n",
    "\n",
    "\n",
    "cv2.imshow(\"Original Image\",img)\n",
    "cv2.imshow(\"Eroded Image\",erosion)\n",
    "cv2.imshow(\"Dilated Image\",dilation)\n",
    "cv2.imshow(\"Opening Image\",opening)\n",
    "cv2.imshow(\"Closing Image\",closing)\n",
    "\n",
    "\n",
    "\n",
    "\n",
    "cv2.waitKey(0)\n",
    "\n"
   ]
  },
  {
   "cell_type": "code",
   "execution_count": null,
   "id": "24bcc47c-c72e-47a3-8ccd-fe335eb19aa2",
   "metadata": {},
   "outputs": [],
   "source": []
  }
 ],
 "metadata": {
  "kernelspec": {
   "display_name": "Python 3 (ipykernel)",
   "language": "python",
   "name": "python3"
  },
  "language_info": {
   "codemirror_mode": {
    "name": "ipython",
    "version": 3
   },
   "file_extension": ".py",
   "mimetype": "text/x-python",
   "name": "python",
   "nbconvert_exporter": "python",
   "pygments_lexer": "ipython3",
   "version": "3.11.4"
  }
 },
 "nbformat": 4,
 "nbformat_minor": 5
}
