{
 "cells": [
  {
   "cell_type": "code",
   "execution_count": 1,
   "id": "d8f5c5b8-5492-46f4-b266-6232fafb026f",
   "metadata": {},
   "outputs": [],
   "source": [
    "import cv2\n",
    "import numpy as np\n",
    "from scipy.ndimage import generic_filter\n",
    "\n",
    "def contra_harmonic_mean_filter(image, kernel_size, Q):\n",
    "    # Define the contra-harmonic mean filter function\n",
    "    def chm_filter(pixel_values):\n",
    "        numerator = np.sum(pixel_values ** (Q + 1))\n",
    "        denominator = np.sum(pixel_values ** Q)\n",
    "        return numerator / denominator if denominator != 0 else 0\n",
    "    \n",
    "    # Apply the filter to the image\n",
    "    filtered_image = generic_filter(image, chm_filter, size=kernel_size)\n",
    "    return filtered_image\n",
    "\n",
    "# Read the image in grayscale mode\n",
    "\n",
    "img_path=\"..//tiger.jpg\"\n",
    "image = cv2.imread(img_path, cv2.IMREAD_GRAYSCALE)\n",
    "image=cv2.resize(image,(500,500))\n",
    "\n",
    "# Set the kernel size and Q value for the filter\n",
    "kernel_size = (3, 3)  # Example: 3x3 kernel\n",
    "Q = 1.5  # Example: positive Q value to remove pepper noise\n",
    "\n",
    "# Apply the contra-harmonic mean filter\n",
    "filtered_image = contra_harmonic_mean_filter(image, kernel_size, Q)\n",
    "\n",
    "# Convert the filtered image to uint8\n",
    "filtered_image = np.clip(filtered_image, 0, 255).astype(np.uint8)\n",
    "\n",
    "# Display the original and filtered images\n",
    "cv2.imshow('Original Image', image)\n",
    "cv2.imshow('Contra-Harmonic Mean Filtered Image', filtered_image)\n",
    "\n",
    "# Wait for a key press and then close all open windows\n",
    "cv2.waitKey(0)\n",
    "cv2.destroyAllWindows()\n"
   ]
  },
  {
   "cell_type": "code",
   "execution_count": null,
   "id": "1ae99091-338c-41a4-a20c-7b3012a657b5",
   "metadata": {},
   "outputs": [],
   "source": []
  }
 ],
 "metadata": {
  "kernelspec": {
   "display_name": "Python 3 (ipykernel)",
   "language": "python",
   "name": "python3"
  },
  "language_info": {
   "codemirror_mode": {
    "name": "ipython",
    "version": 3
   },
   "file_extension": ".py",
   "mimetype": "text/x-python",
   "name": "python",
   "nbconvert_exporter": "python",
   "pygments_lexer": "ipython3",
   "version": "3.11.4"
  }
 },
 "nbformat": 4,
 "nbformat_minor": 5
}
