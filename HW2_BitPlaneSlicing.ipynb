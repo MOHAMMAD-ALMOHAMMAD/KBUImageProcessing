{
 "cells": [
  {
   "cell_type": "code",
   "execution_count": 22,
   "id": "201645bc-99ca-4ccb-ae0e-a233e3609c3d",
   "metadata": {},
   "outputs": [
    {
     "data": {
      "text/plain": [
       "-1"
      ]
     },
     "execution_count": 22,
     "metadata": {},
     "output_type": "execute_result"
    }
   ],
   "source": [
    "#Before Running The Code, Make Sure you install imported libraries (cv2,numpy,etc...)\n",
    "\n",
    "\n",
    "import numpy as np\n",
    "import cv2\n",
    "\n",
    "\n",
    "test_img_path=\"Images//Cat03.jpg\"\n",
    "\n",
    "test_img=cv2.imread(test_img_path)\n",
    "test_img_gray = cv2.cvtColor(test_img, cv2.COLOR_BGR2GRAY)\n",
    "#Iterate over each pixel and change pixel value to binary using np.binary_repr() and store it in a list.\n",
    "lst = []\n",
    "for i in range(test_img_gray.shape[0]):\n",
    "    for j in range(test_img_gray.shape[1]):\n",
    "         lst.append(np.binary_repr(test_img_gray[i][j] ,width=8)) # width = no. of bits\n",
    "\n",
    "\n",
    "eight_bit_img = (np.array([int(i[0]) for i in lst],dtype = np.uint8) * 128).reshape(test_img_gray.shape[0],test_img_gray.shape[1])\n",
    "seven_bit_img = (np.array([int(i[1]) for i in lst],dtype = np.uint8) * 64).reshape(test_img_gray.shape[0],test_img_gray.shape[1])\n",
    "six_bit_img = (np.array([int(i[2]) for i in lst],dtype = np.uint8) * 32).reshape(test_img_gray.shape[0],test_img_gray.shape[1])\n",
    "five_bit_img = (np.array([int(i[3]) for i in lst],dtype = np.uint8) * 16).reshape(test_img_gray.shape[0],test_img_gray.shape[1])\n",
    "four_bit_img = (np.array([int(i[4]) for i in lst],dtype = np.uint8) * 8).reshape(test_img_gray.shape[0],test_img_gray.shape[1])\n",
    "three_bit_img = (np.array([int(i[5]) for i in lst],dtype = np.uint8) * 4).reshape(test_img_gray.shape[0],test_img_gray.shape[1])\n",
    "two_bit_img = (np.array([int(i[6]) for i in lst],dtype = np.uint8) * 2).reshape(test_img_gray.shape[0],test_img_gray.shape[1])\n",
    "one_bit_img = (np.array([int(i[7]) for i in lst],dtype = np.uint8) * 1).reshape(test_img_gray.shape[0],test_img_gray.shape[1])\n",
    "\n",
    "#Concatenate these images for ease of display using cv2.hconcat()\n",
    "finalr = cv2.hconcat([eight_bit_img,seven_bit_img,six_bit_img,five_bit_img])\n",
    "finalv =cv2.hconcat([four_bit_img,three_bit_img,two_bit_img,one_bit_img])\n",
    "\n",
    "# Vertically concatenate\n",
    "final = cv2.vconcat([finalr,finalv])\n",
    "final=cv2.resize(final,(500,500))\n",
    "#resized_test_img=cv2.resize(test_img,(500,500))\n",
    "\n",
    "\n",
    "cv2.imshow(\"Bit Slices\",final)\n",
    "\n",
    "\n",
    "#Taking Only first two bit planes to test\n",
    "newimg2=eight_bit_img+seven_bit_img\n",
    "final2=cv2.resize(newimg2,(500,500))\n",
    "\n",
    "cv2.imshow('After Bit Slicing (Slices=2)',final2)\n",
    "\n",
    "\n",
    "#Trying with more slices\n",
    "newimg3=eight_bit_img+seven_bit_img+six_bit_img+five_bit_img+four_bit_img\n",
    "final3=cv2.resize(newimg3,(500,500))\n",
    "\n",
    "cv2.imshow('After Bit Slicing (Slices=5)',final3)\n",
    "cv2.waitKey(0)\n",
    " \n",
    "\n",
    "#From The Result Of The Slicing, It Should Be Enough To Only Combine The First 5 Bit Planes\n",
    "\n",
    "\n",
    "\n",
    "\n"
   ]
  },
  {
   "cell_type": "code",
   "execution_count": null,
   "id": "198b1759-4c6b-43dc-9114-953455514f56",
   "metadata": {},
   "outputs": [],
   "source": []
  }
 ],
 "metadata": {
  "kernelspec": {
   "display_name": "Python 3 (ipykernel)",
   "language": "python",
   "name": "python3"
  },
  "language_info": {
   "codemirror_mode": {
    "name": "ipython",
    "version": 3
   },
   "file_extension": ".py",
   "mimetype": "text/x-python",
   "name": "python",
   "nbconvert_exporter": "python",
   "pygments_lexer": "ipython3",
   "version": "3.11.4"
  }
 },
 "nbformat": 4,
 "nbformat_minor": 5
}
