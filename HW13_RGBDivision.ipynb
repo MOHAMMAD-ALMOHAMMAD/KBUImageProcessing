{
 "cells": [
  {
   "cell_type": "code",
   "execution_count": 8,
   "id": "1fd2b127-ccbf-4e20-9114-f5e6b7ab6935",
   "metadata": {},
   "outputs": [
    {
     "name": "stdout",
     "output_type": "stream",
     "text": [
      "(500, 500, 3)\n",
      "R Channel Image Shape:(500, 500),G Channel Image Shape:(500, 500),B Channel Image Shape:(500, 500)\n"
     ]
    }
   ],
   "source": [
    "import numpy as np\n",
    "import cv2\n",
    "\n",
    "img_path=\"Images//Cat03.jpg\"\n",
    "\n",
    "img=cv2.imread(img_path)\n",
    "img=cv2.resize(img,(500,500))\n",
    "\n",
    "\n",
    "# Checking the dimensions of the image\n",
    "print(img.shape)\n",
    "\n",
    "#Because OpenCV reads images in BGR format by default,we need to convert the image to RGB format\n",
    "img=cv2.cvtColor(img,cv2.COLOR_BGR2RGB)\n",
    "\n",
    "# Splitting the channels\n",
    "\n",
    "#r,g,b=img[:,:,0],img[:,:,1],img[:,:,2]\n",
    "\n",
    "# or with cv2.split() method\n",
    "\n",
    "r,g,b=cv2.split(img)\n",
    "\n",
    "print(f\"R Channel Image Shape:{r.shape},G Channel Image Shape:{g.shape},B Channel Image Shape:{b.shape}\")\n",
    "\n",
    "# Showing the image representations of the channels\n",
    "\n",
    "stackedimg=np.hstack((r,g,b))\n",
    "\n",
    "cv2.imshow(\"Comparing different channels vs original\",stackedimg)\n",
    "cv2.waitKey(0)\n",
    "cv2.destroyAllWindows()\n",
    "\n"
   ]
  },
  {
   "cell_type": "code",
   "execution_count": null,
   "id": "16d45370-8062-42fd-b294-011109354ef6",
   "metadata": {},
   "outputs": [],
   "source": []
  }
 ],
 "metadata": {
  "kernelspec": {
   "display_name": "Python 3 (ipykernel)",
   "language": "python",
   "name": "python3"
  },
  "language_info": {
   "codemirror_mode": {
    "name": "ipython",
    "version": 3
   },
   "file_extension": ".py",
   "mimetype": "text/x-python",
   "name": "python",
   "nbconvert_exporter": "python",
   "pygments_lexer": "ipython3",
   "version": "3.11.4"
  }
 },
 "nbformat": 4,
 "nbformat_minor": 5
}
