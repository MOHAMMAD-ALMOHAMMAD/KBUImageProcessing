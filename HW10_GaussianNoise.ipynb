{
 "cells": [
  {
   "cell_type": "code",
   "execution_count": 4,
   "id": "995ac390-87dd-470e-8756-ea3bc251aa50",
   "metadata": {},
   "outputs": [],
   "source": [
    "import cv2\n",
    "import numpy as np\n",
    "\n",
    "# Read the image\n",
    "img_path=\"Images/tiger.jpg\"\n",
    "\n",
    "image = cv2.imread(img_path)\n",
    "image=cv2.resize(image,(500,500))\n",
    "\n",
    "# Convert the image to float32 for more precision for operations\n",
    "image_float = np.float32(image)\n",
    "\n",
    "# Generate Gaussian noise\n",
    "mean = 0   # Mean of the Gaussian noise\n",
    "stddev = 25  # Standard deviation of the Gaussian noise\n",
    "gaussian_noise = np.random.normal(mean, stddev, image.shape).astype(np.float32)\n",
    "\n",
    "# Add the Gaussian noise to the image\n",
    "noisy_image = cv2.add(image_float, gaussian_noise)\n",
    "\n",
    "# Convert back to uint8\n",
    "noisy_image = np.clip(noisy_image, 0, 255).astype(np.uint8)\n",
    "\n",
    "# Display the original and noisy images\n",
    "cv2.imshow('Original Image', image)\n",
    "cv2.imshow('Image with Gaussian Noise', noisy_image)\n",
    "\n",
    "# Wait for a key press and then close all open windows\n",
    "cv2.waitKey(0)\n",
    "cv2.destroyAllWindows()\n"
   ]
  },
  {
   "cell_type": "code",
   "execution_count": null,
   "id": "74ac11aa-d347-4100-97ef-1257cdd6d706",
   "metadata": {},
   "outputs": [],
   "source": []
  }
 ],
 "metadata": {
  "kernelspec": {
   "display_name": "Python 3 (ipykernel)",
   "language": "python",
   "name": "python3"
  },
  "language_info": {
   "codemirror_mode": {
    "name": "ipython",
    "version": 3
   },
   "file_extension": ".py",
   "mimetype": "text/x-python",
   "name": "python",
   "nbconvert_exporter": "python",
   "pygments_lexer": "ipython3",
   "version": "3.11.4"
  }
 },
 "nbformat": 4,
 "nbformat_minor": 5
}
