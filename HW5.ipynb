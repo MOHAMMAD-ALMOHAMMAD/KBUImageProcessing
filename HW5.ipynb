{
 "cells": [
  {
   "cell_type": "code",
   "execution_count": 2,
   "id": "7a980669",
   "metadata": {},
   "outputs": [],
   "source": [
    "import pandas as pd\n",
    "import numpy as np\n",
    "import cv2\n"
   ]
  },
  {
   "cell_type": "markdown",
   "id": "26a0d578",
   "metadata": {},
   "source": [
    "# Reading A Color Image"
   ]
  },
  {
   "cell_type": "code",
   "execution_count": 3,
   "id": "e2cbe0e6",
   "metadata": {},
   "outputs": [
    {
     "data": {
      "text/plain": [
       "-1"
      ]
     },
     "execution_count": 3,
     "metadata": {},
     "output_type": "execute_result"
    }
   ],
   "source": [
    "img=cv2.imread(\"Images/Cat03.jpg\")\n",
    "img=cv2.resize(img,(300,300))\n",
    "cv2.imshow(\"Color Image\",img)\n",
    "cv2.waitKey(0)"
   ]
  },
  {
   "cell_type": "code",
   "execution_count": 4,
   "id": "dee1a560",
   "metadata": {},
   "outputs": [
    {
     "data": {
      "text/plain": [
       "(300, 300, 3)"
      ]
     },
     "execution_count": 4,
     "metadata": {},
     "output_type": "execute_result"
    }
   ],
   "source": [
    "# Checking the dimensions of the imag\n",
    "img.shape\n"
   ]
  },
  {
   "cell_type": "code",
   "execution_count": 5,
   "id": "895a744e",
   "metadata": {},
   "outputs": [
    {
     "data": {
      "text/plain": [
       "(300, 300)"
      ]
     },
     "execution_count": 5,
     "metadata": {},
     "output_type": "execute_result"
    }
   ],
   "source": [
    "#Because OpenCV reads images in BGR format by default,we need to convert the image to RGB format\n",
    "\n",
    "img=cv2.cvtColor(img,cv2.COLOR_BGR2RGB)\n",
    "\n",
    "# Splitting the channels\n",
    "\n",
    "#r,g,b=img[:,:,0],img[:,:,1],img[:,:,2]\n",
    "\n",
    "# or with cv2.split() method\n",
    "\n",
    "r,g,b=cv2.split(img)\n",
    "\n",
    "r.shape\n"
   ]
  },
  {
   "cell_type": "code",
   "execution_count": 45,
   "id": "dff54724",
   "metadata": {},
   "outputs": [],
   "source": [
    "# Showing the image representations of the channels\n",
    "\n",
    "stackedimg=np.hstack((r,g,b))\n",
    "\n",
    "cv2.imshow(\"Comparing different channels vs original\",stackedimg)\n",
    "\n",
    "cv2.waitKey(0)\n",
    "cv2.destroyAllWindows()\n"
   ]
  },
  {
   "cell_type": "markdown",
   "id": "28c58f5c",
   "metadata": {},
   "source": [
    "# Converting From RGB To HSI"
   ]
  },
  {
   "cell_type": "code",
   "execution_count": 35,
   "id": "2efbc14b",
   "metadata": {},
   "outputs": [],
   "source": [
    "hsi_img=cv2.cvtColor(img,cv2.COLOR_RGB2HSV)\n",
    "\n",
    "#hsi_VS_rgb=np.hstack((HSI_img,img))\n",
    "\n",
    "cv2.imshow(\"HSI vs RGB\",hsi_img)\n",
    "\n",
    "cv2.waitKey(0)\n",
    "cv2.destroyAllWindows()\n",
    "\n"
   ]
  },
  {
   "cell_type": "markdown",
   "id": "419ae38c",
   "metadata": {},
   "source": [
    "# Applying Smoothing Filter To Color Image"
   ]
  },
  {
   "cell_type": "markdown",
   "id": "7ecb2a67",
   "metadata": {},
   "source": [
    "**We Can Smooth a Colored Image by applying the filter to each of its channels**"
   ]
  },
  {
   "cell_type": "code",
   "execution_count": 26,
   "id": "567f7752",
   "metadata": {},
   "outputs": [],
   "source": [
    "\n",
    "channels=()\n",
    "\n",
    "for channel in [r,g,b]:\n",
    "    channel=cv2.boxFilter(channel,-1,(3,3))\n",
    "    channels=channels+(channel,)\n",
    "    \n",
    "cv2.imshow(\"Smoothed Image Channels With Box Filter\",np.hstack(channels))\n",
    "cv2.waitKey(0)\n",
    "cv2.destroyAllWindows()\n",
    "    \n",
    "\n"
   ]
  },
  {
   "cell_type": "code",
   "execution_count": 25,
   "id": "f1ec64e3",
   "metadata": {},
   "outputs": [],
   "source": [
    "# merge method expects image format is BGR\n",
    "\n",
    "new_smooth_img=cv2.merge([channels[2],channels[1],channels[0]])\n",
    "\n",
    "\n",
    "cv2.imshow(\"Smoothed Color Image With Box Filter\",new_smooth_img)\n",
    "cv2.waitKey(0)\n",
    "cv2.destroyAllWindows()\n",
    "    \n"
   ]
  },
  {
   "cell_type": "markdown",
   "id": "65430d34",
   "metadata": {},
   "source": [
    "# END"
   ]
  }
 ],
 "metadata": {
  "kernelspec": {
   "display_name": "Python 3 (ipykernel)",
   "language": "python",
   "name": "python3"
  },
  "language_info": {
   "codemirror_mode": {
    "name": "ipython",
    "version": 3
   },
   "file_extension": ".py",
   "mimetype": "text/x-python",
   "name": "python",
   "nbconvert_exporter": "python",
   "pygments_lexer": "ipython3",
   "version": "3.9.7"
  }
 },
 "nbformat": 4,
 "nbformat_minor": 5
}
