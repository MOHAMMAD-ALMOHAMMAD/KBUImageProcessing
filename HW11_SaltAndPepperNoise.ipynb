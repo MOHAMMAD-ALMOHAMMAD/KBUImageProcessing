{
 "cells": [
  {
   "cell_type": "code",
   "execution_count": null,
   "id": "89a2d511-a190-48da-996f-2b9487df8735",
   "metadata": {},
   "outputs": [],
   "source": [
    "import cv2\n",
    "import numpy as np\n",
    "\n",
    "\n",
    "img_path=\"../tiger.jpg\"\n",
    "img = cv2.imread(img_path,cv2.IMREAD_GRAYSCALE)\n",
    "img=cv2.resize(img,(500,500))\n",
    "\n",
    "\n",
    "\n",
    "def saltPepperNoise(image):\n",
    " row,col = image.shape\n",
    " s_vs_p = 0.5\n",
    " amount = 0.04\n",
    " noisy = np.copy(image)\n",
    " num_salt = int(np.ceil(amount*image.size*s_vs_p))\n",
    " corrds = [np.random.randint(0,i-1,num_salt) for i in image.shape]\n",
    " noisy[tuple(corrds)] = 1\n",
    " num_pep = int(np.ceil(amount*image.size*s_vs_p))\n",
    " corrds = [np.random.randint(0,i-1,num_pep) for i in image.shape]\n",
    " noisy[tuple(corrds)] = 0\n",
    " return noisy\n",
    "\n",
    "\n",
    "img = img/255\n",
    "noise_img = saltPepperNoise(img)\n",
    "cv2.imshow(\"Original Image\",img)\n",
    "cv2.imshow(\"Salt And Pepper Noise\",noise_img)\n",
    "cv2.waitKey(0) "
   ]
  },
  {
   "cell_type": "code",
   "execution_count": null,
   "id": "b8acd742-9161-4be2-88c9-42c311e579af",
   "metadata": {},
   "outputs": [],
   "source": []
  }
 ],
 "metadata": {
  "kernelspec": {
   "display_name": "Python 3 (ipykernel)",
   "language": "python",
   "name": "python3"
  },
  "language_info": {
   "codemirror_mode": {
    "name": "ipython",
    "version": 3
   },
   "file_extension": ".py",
   "mimetype": "text/x-python",
   "name": "python",
   "nbconvert_exporter": "python",
   "pygments_lexer": "ipython3",
   "version": "3.11.4"
  }
 },
 "nbformat": 4,
 "nbformat_minor": 5
}
