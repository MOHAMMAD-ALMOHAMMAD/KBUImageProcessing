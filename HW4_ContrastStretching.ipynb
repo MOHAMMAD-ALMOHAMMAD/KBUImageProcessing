{
 "cells": [
  {
   "cell_type": "code",
   "execution_count": 3,
   "id": "b1f2a4b0-3368-4341-9cab-b7ad73d91f3e",
   "metadata": {},
   "outputs": [
    {
     "data": {
      "text/plain": [
       "-1"
      ]
     },
     "execution_count": 3,
     "metadata": {},
     "output_type": "execute_result"
    }
   ],
   "source": [
    "import cv2 \n",
    "import numpy as np \n",
    "\n",
    "# Open the image.\n",
    "\n",
    "test_img_path=\"Images//Cat03.jpg\"\n",
    "\n",
    "img = cv2.imread(test_img_path,cv2.IMREAD_GRAYSCALE)\n",
    "img=cv2.resize(img,(500,500))\n",
    "\n",
    "# Apply log transform. \n",
    "c = 255/(np.log(1 + np.max(img))) \n",
    "log_transformed = c * np.log(1 + img) \n",
    "\n",
    "# Specify the data type. \n",
    "log_transformed = np.array(log_transformed, dtype = np.uint8) \n",
    "\n",
    "# Save the output. \n",
    "cv2.imshow('Original Image', img)\n",
    "cv2.imshow('Contrast Stretched (Log Transformation) Image', log_transformed) \n",
    "cv2.waitKey(0)\n"
   ]
  },
  {
   "cell_type": "code",
   "execution_count": null,
   "id": "d7e84a17-e8ea-4659-ad78-89682db7dd0f",
   "metadata": {},
   "outputs": [],
   "source": []
  }
 ],
 "metadata": {
  "kernelspec": {
   "display_name": "Python 3 (ipykernel)",
   "language": "python",
   "name": "python3"
  },
  "language_info": {
   "codemirror_mode": {
    "name": "ipython",
    "version": 3
   },
   "file_extension": ".py",
   "mimetype": "text/x-python",
   "name": "python",
   "nbconvert_exporter": "python",
   "pygments_lexer": "ipython3",
   "version": "3.11.4"
  }
 },
 "nbformat": 4,
 "nbformat_minor": 5
}
