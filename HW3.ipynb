import numpy as np
import matplotlib.pyplot as pot
import pandas as pd 

M=64 # Number of pixels
N=64 #Number of pixels
L=8
Rk=[x for x in range(L)]
Nk=[30,300,76,1000,2000,500,150,40]
P_Rk=[x/(M*N) for x in Nk]

dfhist={"Rk":Rk,"Nk":Nk,"P(Rk)":P_Rk}

df=pd.DataFrame(dfhist)
#df.set_index('Rk',inplace=True)

print(df)

# ﹰNk should sum up to the number of pixels, and P(Rk) should sum up to 1

print(df["Nk"].sum(), df["P(Rk)"].sum())

