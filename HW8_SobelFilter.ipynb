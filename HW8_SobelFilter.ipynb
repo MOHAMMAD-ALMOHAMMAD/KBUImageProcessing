{
 "cells": [
  {
   "cell_type": "code",
   "execution_count": 11,
   "id": "b1f2a4b0-3368-4341-9cab-b7ad73d91f3e",
   "metadata": {},
   "outputs": [
    {
     "data": {
      "text/plain": [
       "-1"
      ]
     },
     "execution_count": 11,
     "metadata": {},
     "output_type": "execute_result"
    }
   ],
   "source": [
    "import numpy as np\n",
    "import cv2\n",
    "\n",
    "img_path=\"..//tiger.jpg\"\n",
    "\n",
    "img = cv2.imread(img_path)\n",
    "img=cv2.resize(img,(500,500))\n",
    "gray = cv2.cvtColor(img, cv2.COLOR_BGR2GRAY)\n",
    "\n",
    "\n",
    "\n",
    "newimg_x=cv2.Sobel(src=gray, ddepth=cv2.CV_64F, dx=1, dy=0, ksize=3) \n",
    "newimg_y=cv2.Sobel(src=gray, ddepth=cv2.CV_64F, dx=0, dy=1, ksize=3)\n",
    "newimg_xy=cv2.Sobel(src=gray, ddepth=cv2.CV_64F, dx=1, dy=1, ksize=3)\n",
    "\n",
    "\n",
    "cv2.imshow(\"Original Image\",gray)\n",
    "cv2.imshow(\"Sobel Filter (X-Direction)\",newimg_x)\n",
    "cv2.imshow(\"Sobel Filter (Y-Direction)\",newimg_y)\n",
    "cv2.imshow(\"Sobel Filter (XY-Direction)\",newimg_xy)\n",
    "\n",
    "\n",
    "\n",
    "cv2.waitKey(0)"
   ]
  },
  {
   "cell_type": "code",
   "execution_count": null,
   "id": "3abb6c26-5a8f-4c4e-ab1a-8b21415fada6",
   "metadata": {},
   "outputs": [],
   "source": []
  }
 ],
 "metadata": {
  "kernelspec": {
   "display_name": "Python 3 (ipykernel)",
   "language": "python",
   "name": "python3"
  },
  "language_info": {
   "codemirror_mode": {
    "name": "ipython",
    "version": 3
   },
   "file_extension": ".py",
   "mimetype": "text/x-python",
   "name": "python",
   "nbconvert_exporter": "python",
   "pygments_lexer": "ipython3",
   "version": "3.11.4"
  }
 },
 "nbformat": 4,
 "nbformat_minor": 5
}
